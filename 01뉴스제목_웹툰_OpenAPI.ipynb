{
 "cells": [
  {
   "cell_type": "markdown",
   "id": "eb0bfa44",
   "metadata": {},
   "source": [
    "## 1. 뉴스제목 가져오기\n",
    "* user-agent 요청헤더를 반드시 설정해야 한다."
   ]
  },
  {
   "cell_type": "code",
   "execution_count": 1,
   "id": "f0d27781",
   "metadata": {},
   "outputs": [
    {
     "name": "stdout",
     "output_type": "stream",
     "text": [
      "Name: requests\n",
      "Version: 2.32.3\n",
      "Summary: Python HTTP for Humans.\n",
      "Home-page: https://requests.readthedocs.io\n",
      "Author: Kenneth Reitz\n",
      "Author-email: me@kennethreitz.org\n",
      "License: Apache-2.0\n",
      "Location: c:\\Users\\user\\anaconda3\\Lib\\site-packages\n",
      "Requires: certifi, charset-normalizer, idna, urllib3\n",
      "Required-by: aext-assistant-server, anaconda-catalogs, anaconda-client, anaconda-cloud-auth, anaconda-project, conda, conda-build, conda-repo-cli, conda_package_streaming, cookiecutter, datashader, jupyterlab_server, panel, requests-file, requests-toolbelt, Sphinx, streamlit, tldextract\n",
      "Note: you may need to restart the kernel to use updated packages.\n"
     ]
    }
   ],
   "source": [
    "# requests 라이브러리 설치여부 확인\n",
    "%pip show requests"
   ]
  },
  {
   "cell_type": "code",
   "execution_count": 2,
   "id": "f7798ea8",
   "metadata": {},
   "outputs": [
    {
     "name": "stdout",
     "output_type": "stream",
     "text": [
      "Name: beautifulsoup4\n",
      "Version: 4.12.3\n",
      "Summary: Screen-scraping library\n",
      "Home-page: https://www.crummy.com/software/BeautifulSoup/bs4/\n",
      "Author: \n",
      "Author-email: Leonard Richardson <leonardr@segfault.org>\n",
      "License: MIT License\n",
      "Location: c:\\Users\\user\\anaconda3\\Lib\\site-packages\n",
      "Requires: soupsieve\n",
      "Required-by: conda-build, nbconvert\n",
      "Note: you may need to restart the kernel to use updated packages.\n"
     ]
    }
   ],
   "source": [
    "# beautifulsoup4 라이브러리 설치여부 확인\n",
    "%pip show beautifulsoup4"
   ]
  },
  {
   "cell_type": "code",
   "execution_count": 3,
   "id": "bf80a429",
   "metadata": {},
   "outputs": [],
   "source": [
    "# reqeusts, bs4 import\n",
    "import requests\n",
    "import bs4\n",
    "# BeautifulSoup 클래스 import\n",
    "from bs4 import BeautifulSoup"
   ]
  },
  {
   "cell_type": "code",
   "execution_count": 7,
   "id": "9788d6ac",
   "metadata": {},
   "outputs": [
    {
     "name": "stdout",
     "output_type": "stream",
     "text": [
      "requests  버전 2.32.3 \n",
      " beautifulsoup 버전 4.12.3\n"
     ]
    }
   ],
   "source": [
    "# requests, bs4 버전 확인하기\n",
    "print(f'requests  버전 {requests.__version__} \\n beautifulsoup 버전 {bs4.__version__}')"
   ]
  },
  {
   "cell_type": "markdown",
   "id": "ccb91def-cde3-4aeb-b0e5-2e7233500333",
   "metadata": {},
   "source": [
    "### 1. 뉴스 제목 추출하기"
   ]
  },
  {
   "cell_type": "code",
   "execution_count": 36,
   "id": "94c12fd6",
   "metadata": {},
   "outputs": [
    {
     "name": "stdout",
     "output_type": "stream",
     "text": [
      "https://news.naver.com/section/105\n",
      "<Response [200]>\n",
      "<class 'requests.models.Response'>\n",
      "200 True\n",
      "88\n",
      "<class 'bs4.element.ResultSet'>\n",
      "https://n.news.naver.com/mnews/article/277/0005574299 카카오가 추구하는 '착한 소비'…9년만에 누적 거래 1조원\n",
      "https://n.news.naver.com/mnews/article/comment/277/0005574299 \n",
      "https://n.news.naver.com/mnews/article/011/0004471555 뤼튼 \"5000만 국민 모두에게 생활형 AI 제공할 것\"\n",
      "https://n.news.naver.com/mnews/article/comment/011/0004471555 \n",
      "https://n.news.naver.com/mnews/article/008/0005177299 \"역시 믿을 건 갤럭시\"...'갤S25 흥행' 삼성 모바일, 나홀로 선방\n",
      "https://n.news.naver.com/mnews/article/comment/008/0005177299 \n",
      "https://n.news.naver.com/mnews/article/014/0005332827 정부, 스미싱 문자 사전 차단하는 '엑스레이' 서비스 시범 운영\n",
      "https://n.news.naver.com/mnews/article/comment/014/0005332827 \n",
      "https://n.news.naver.com/mnews/article/119/0002942537 기업은행, SKT와 보이스피싱 피해·탐지 서비스 개시\n",
      "https://n.news.naver.com/mnews/article/comment/119/0002942537 \n",
      "https://n.news.naver.com/mnews/article/014/0005332806 우주항공청, 우주 신흥국과 전략적 파트너십\n",
      "https://n.news.naver.com/mnews/article/comment/014/0005332806 \n",
      "https://n.news.naver.com/mnews/article/009/0005472817 “1초만에 99.5% 정확도로 상품 인식”…신세계아이앤씨, AI 리테일테크 시장 정조준\n",
      "https://n.news.naver.com/mnews/article/comment/009/0005472817 \n",
      "https://n.news.naver.com/mnews/article/277/0005574163 카메라로 옷장 비추면 코디 추천…갤S25 '비주얼 AI' 업데이트\n",
      "https://n.news.naver.com/mnews/article/comment/277/0005574163 \n",
      "https://n.news.naver.com/mnews/article/030/0003301404 [이슈플러스]삼성전자 1분기 메모리 실적 '선방'\n",
      "https://n.news.naver.com/mnews/article/comment/030/0003301404 \n",
      "https://n.news.naver.com/mnews/article/092/0002369838 소액주주 눈높이 맞춘다…한화에어로, 유증 3.6조→2.3조 축소\n",
      "https://n.news.naver.com/mnews/article/comment/092/0002369838 \n",
      "https://n.news.naver.com/mnews/article/421/0008180782 의협 \"작년 2월 전으로 돌아가야\"…정부·국회에 대화 요구(종합)\n",
      "https://n.news.naver.com/mnews/article/comment/421/0008180782 \n",
      "https://n.news.naver.com/mnews/article/092/0002369836 한화오션, 차세대 드릴십 인도…심해 시추 본격 진출\n",
      "https://n.news.naver.com/mnews/article/comment/092/0002369836 \n",
      "https://n.news.naver.com/mnews/article/018/0005982544 “보여주면 알아서 설명” 삼성, 갤럭시 S25에 ‘실시간 비주얼 AI’ 도입\n",
      "https://n.news.naver.com/mnews/article/comment/018/0005982544 \n",
      "https://n.news.naver.com/mnews/article/008/0005177554 \"5G 투자회수도 멀었는데\"…글로벌 통신업계 '6G' 회의론\n",
      "https://n.news.naver.com/mnews/article/comment/008/0005177554 \n",
      "https://n.news.naver.com/mnews/article/014/0005332970 삼성 1분기 실적 효자는 '갤S25'…2Q '슬림' 판매량 관건\n",
      "https://n.news.naver.com/mnews/article/comment/014/0005332970 \n",
      "https://n.news.naver.com/mnews/article/648/0000035139 영화 'HER' 속 사만사처럼…뤼튼의 '1인 1AI' 전략\n",
      "https://n.news.naver.com/mnews/article/comment/648/0000035139 \n",
      "https://n.news.naver.com/mnews/article/092/0002369831 [현장] \"AI, 이제 도구가 아닌 친구\"…뤼튼, '1인 1AI' 시대 연다\n",
      "https://n.news.naver.com/mnews/article/comment/092/0002369831 \n",
      "https://n.news.naver.com/mnews/article/029/0002946712 의협 “내년 정원 확정해달라…교육 불가능땐 모집인원 줄여야”\n",
      "https://n.news.naver.com/mnews/article/comment/029/0002946712 \n",
      "https://n.news.naver.com/mnews/article/018/0005982502 “자문인줄 알았는데” 리멤버, 전직 직원에 내부정보 요구 논란\n",
      "https://n.news.naver.com/mnews/article/comment/018/0005982502 \n",
      "https://n.news.naver.com/mnews/article/092/0002369827 리플 \"전 세계 금융 시장, 실물자산 토큰화 중심으로 근본 변화\"\n",
      "https://n.news.naver.com/mnews/article/comment/092/0002369827 \n",
      "https://n.news.naver.com/mnews/article/366/0001067652 당뇨·비만 치료제가 치매 위험 33~43% 낮춘다\n",
      "https://n.news.naver.com/mnews/article/comment/366/0001067652 \n",
      "https://n.news.naver.com/mnews/article/366/0001067651 과기정통부·KISA, 스팸문자 사전 차단 '엑스레이 서비스' 시범 도입\n",
      "https://n.news.naver.com/mnews/article/comment/366/0001067651 \n",
      "https://n.news.naver.com/mnews/article/421/0008180569 에이비엘바이오, '4조 기술이전' 후 첫 공식석상…로드맵 밝힌다\n",
      "https://n.news.naver.com/mnews/article/comment/421/0008180569 \n",
      "https://n.news.naver.com/mnews/article/023/0003898288 한국계 NASA 우주인 조니 김 태운 러 우주선, ISS로 발사\n",
      "https://n.news.naver.com/mnews/article/comment/023/0003898288 \n",
      "https://n.news.naver.com/mnews/article/030/0003301377 “韓 AI 선진국 위해 'AI기술'보다 데이터 확보가 필요”\n",
      "https://n.news.naver.com/mnews/article/comment/030/0003301377 \n",
      "https://n.news.naver.com/mnews/article/421/0008180565 \"의료계 제안 논의하자\"…의협, 정부·국회에 '대화의 장' 요구\n",
      "https://n.news.naver.com/mnews/article/comment/421/0008180565 \n",
      "https://n.news.naver.com/mnews/article/014/0005332936 질병청-녹십자 개발 '탄저백신' 품목허가 \"백신주권 확립\"\n",
      "https://n.news.naver.com/mnews/article/comment/014/0005332936 \n",
      "https://n.news.naver.com/mnews/article/081/0003531724 항암제 피하는 암세포 꼼수 발견…악성 폐암도 잡는다\n",
      "https://n.news.naver.com/mnews/article/comment/081/0003531724 \n",
      "https://n.news.naver.com/mnews/article/421/0008180537 뤼튼 \"무료전략으로 생활형 AI 시대 열 것…올해 천만 MAU 목표\"\n",
      "https://n.news.naver.com/mnews/article/comment/421/0008180537 \n",
      "https://n.news.naver.com/mnews/article/032/0003361993 첫 한국계 ‘NASA 우주비행사’ 조니 김, 마침내 지구 궤도로 떠났다\n",
      "https://n.news.naver.com/mnews/article/comment/032/0003361993 \n",
      "https://n.news.naver.com/mnews/article/015/0005116525 질병청, 세계 첫 단백질 재조합 탄저백신 '배리트락스' 상용화\n",
      "https://n.news.naver.com/mnews/article/comment/015/0005116525 \n",
      "https://n.news.naver.com/mnews/article/092/0002369818 트럼프 관세, 세계경제 큰 타격…美中 충돌로 더 증폭\n",
      "https://n.news.naver.com/mnews/article/comment/092/0002369818 \n",
      "https://n.news.naver.com/mnews/article/366/0001067643 [100세 과학] 노년 건강 유지엔 채식보다 육식\n",
      "https://n.news.naver.com/mnews/article/comment/366/0001067643 \n",
      "https://n.news.naver.com/mnews/article/018/0005982461 [사고]스테이블코인 vs CBDC…디지털금융 대세는 어디로?\n",
      "https://n.news.naver.com/mnews/article/comment/018/0005982461 \n",
      "https://n.news.naver.com/mnews/article/021/0002701758 폐암 면역치료 새 전략 찾았다…면역항암 막는 핵심인자 최초로 발견\n",
      "https://n.news.naver.com/mnews/article/comment/021/0002701758 \n",
      "https://n.news.naver.com/mnews/article/092/0002369817 \"갤럭시S26 울트라, 카메라 사양 등 전작과 큰 변화 없다\"\n",
      "https://n.news.naver.com/mnews/article/comment/092/0002369817 \n",
      "https://n.news.naver.com/mnews/article/092/0002369816 구영배 \"위시 살려야\" 주장에 피해자들 분통…\"차라리 처벌 받아라\"\n",
      "https://n.news.naver.com/mnews/article/comment/092/0002369816 \n",
      "https://n.news.naver.com/mnews/article/092/0002369815 관세 폭탄에 스마트폰 공장 美로 옮긴다?…\"가능성 희박\"\n",
      "https://n.news.naver.com/mnews/article/comment/092/0002369815 \n",
      "https://n.news.naver.com/mnews/article/015/0005116508 전국에 딱 500대만 풀린다…'한정판 갤럭시S25'의 정체\n",
      "https://n.news.naver.com/mnews/article/comment/015/0005116508 \n",
      "https://n.news.naver.com/mnews/article/030/0003301337 [6G 코리아] ④ 이통3사, AI-RAN 시장 개척 주도\n",
      "https://n.news.naver.com/mnews/article/comment/030/0003301337 \n",
      "https://n.news.naver.com/mnews/article/015/0005116502 한바이오 \"모유두세포로 탈모 정복하겠다\"\n",
      "https://n.news.naver.com/mnews/article/comment/015/0005116502 \n",
      "https://n.news.naver.com/mnews/article/293/0000065879 뤼튼, 감정 교류도 하는 'AI 비서' 낸다\n",
      "https://n.news.naver.com/mnews/article/comment/293/0000065879 \n",
      "https://n.news.naver.com/mnews/article/092/0002369813 온라인서 예금토큰 결제 지연…9일부터 순차적으로 진행\n",
      "https://n.news.naver.com/mnews/article/comment/092/0002369813 \n",
      "https://n.news.naver.com/mnews/article/030/0003301326 법인 가상자산 투자 허용, 금융 생태계 지각변동 예고...우덕수 블록데몬 아시아 대표 “기관 대상 상품 본격화”\n",
      "https://n.news.naver.com/mnews/article/comment/030/0003301326 \n"
     ]
    }
   ],
   "source": [
    "# IT/과학 뉴스 \n",
    "req_param = {\n",
    "    'sid': 105\n",
    "}\n",
    "# \n",
    "url = 'https://news.naver.com/section/{sid}'.format(**req_param)\n",
    "print(url)\n",
    "\n",
    "# url2 = 'https://news.naver.com/section/105'\n",
    "\n",
    "# 요청 헤더 설정 : 브라우저 정보 (기계가 아니라 사람처럼 보이게 하려고 설정하는 것)\n",
    "req_header = {\n",
    "    'user-agent' : 'Mozilla/5.0 (Windows NT 10.0; Win64; x64) AppleWebKit/537.36 (KHTML, like Gecko) Chrome/135.0.0.0 Safari/537.36'\n",
    "    \n",
    "}\n",
    "\n",
    "# requests 의 get() 함수 호출하기 \n",
    "res = requests.get(url, headers=req_header)\n",
    "print(res)\n",
    "print(type(res))\n",
    "print(res.status_code, res.ok)\n",
    "# 응답(response)이 OK 이면\n",
    "if res.ok:\n",
    "    \n",
    "    # 응답 (response)에서 text 추출 - source 보기\n",
    "    html = res.text\n",
    "    # BeautifulSoup 객체 생성 -\n",
    "    soup = BeautifulSoup(html, 'html.parser')\n",
    "    # CSS 선택자\n",
    "    # <div class = 'sa_text'><a></a><div>\n",
    "    print(len(soup.select(\"div.sa_text a[href*='mnews/article']\")))\n",
    "    # print(soup.select(\"div.sa_text a[href*='mnews/article']\"))\n",
    "    a_tag_list = soup.select(\"div.sa_text a[href*='mnews/article']\")\n",
    "    print(type(a_tag_list)) # ResultSet\n",
    "    # print(a_tag_list) # [<a></a>, <a></a>]\n",
    "    for a_tag in a_tag_list:\n",
    "        # print(type(a_tag)) # Tag <a></a>\n",
    "        title = a_tag.text.strip()\n",
    "        # href 속성의 값을 가져오기\n",
    "        link = a_tag['href']\n",
    "        \n",
    "        print(link, title)\n",
    "\n",
    "\n",
    "    # <a> 태그 리스트 순회하기    \n",
    "else:\n",
    "# 응답(response)이 Error 이면 status code 출력    \n",
    "    print(f'ERROR CODE = {res.status_code}')\n"
   ]
  },
  {
   "cell_type": "markdown",
   "id": "45640860-a449-4285-90d7-5f300292b461",
   "metadata": {},
   "source": [
    "### 1.1 뉴스제목 추출하는 함수 선언하기"
   ]
  },
  {
   "cell_type": "code",
   "execution_count": 37,
   "id": "9f2e4ef8",
   "metadata": {},
   "outputs": [],
   "source": [
    "import requests\n",
    "from bs4 import BeautifulSoup\n",
    "\n",
    "section_dict = {\n",
    "    100: \"정치\",\n",
    "    101: \"경제\",\n",
    "    102: \"사회\",\n",
    "    103: \"생활/문화\",\n",
    "    104: \"세계\",\n",
    "    105: \"IT/과학\",\n",
    "}\n",
    "\n",
    "\n",
    "def print_news(sid):  # print_new(103,'생활/문화')\n",
    "    \n",
    "    section = section_dict[sid]\n",
    "    # req_param = {\"sid\": sid}\n",
    "    # url = \"https://news.naver.com/section/{sid}\".format(**req_param)\n",
    "    url = f\"https://news.naver.com/section/{sid}\"\n",
    "    print(f'=====> {url} {section} 뉴스 <=====')\n",
    "\n",
    "    # 요청 헤더 설정 : 브라우저 정보 (기계가 아니라 사람처럼 보이게 하려고 설정하는 것)\n",
    "    req_header = {\n",
    "        \"user-agent\": \"Mozilla/5.0 (Windows NT 10.0; Win64; x64) AppleWebKit/537.36 (KHTML, like Gecko) Chrome/135.0.0.0 Safari/537.36\"\n",
    "    }\n",
    "\n",
    "    # requests 의 get() 함수 호출하기\n",
    "    res = requests.get(url, headers=req_header)\n",
    "    print(res)\n",
    "    print(type(res))\n",
    "    print(res.status_code, res.ok)\n",
    "    # 응답(response)이 OK 이면\n",
    "    if res.ok:\n",
    "\n",
    "        # 응답 (response)에서 text 추출 - source 보기\n",
    "        html = res.text\n",
    "        # BeautifulSoup 객체 생성 -\n",
    "        soup = BeautifulSoup(html, \"html.parser\")\n",
    "        # CSS 선택자\n",
    "        # <div class = 'sa_text'><a></a><div>\n",
    "        print(len(soup.select(\"div.sa_text a[href*='mnews/article']\")))\n",
    "        # print(soup.select(\"div.sa_text a[href*='mnews/article']\"))\n",
    "        a_tag_list = soup.select(\"div.sa_text a[href*='mnews/article']\")\n",
    "        print(type(a_tag_list))  # ResultSet\n",
    "        # print(a_tag_list) # [<a></a>, <a></a>]\n",
    "        for a_tag in a_tag_list:\n",
    "            # print(type(a_tag)) # Tag <a></a>\n",
    "            title = a_tag.text.strip()\n",
    "            # href 속성의 값을 가져오기\n",
    "            link = a_tag[\"href\"]\n",
    "\n",
    "            print(link, title)\n",
    "\n",
    "        # <a> 태그 리스트 순회하기\n",
    "    else:\n",
    "        # 응답(response)이 Error 이면 status code 출력\n",
    "        print(f\"ERROR CODE = {res.status_code}\")"
   ]
  },
  {
   "cell_type": "code",
   "execution_count": 38,
   "id": "858952c6",
   "metadata": {},
   "outputs": [
    {
     "name": "stdout",
     "output_type": "stream",
     "text": [
      "=====> https://news.naver.com/section/105 IT/과학 뉴스 <=====\n",
      "<Response [200]>\n",
      "<class 'requests.models.Response'>\n",
      "200 True\n",
      "88\n",
      "<class 'bs4.element.ResultSet'>\n",
      "https://n.news.naver.com/mnews/article/029/0002946563 중앙아시아·유럽으로 넓어지는 韓 우주협력 영토\n",
      "https://n.news.naver.com/mnews/article/comment/029/0002946563 \n",
      "https://n.news.naver.com/mnews/article/023/0003898297 AI 포털 뤼튼 “감정 교류 개인화 AI와 리워드 서비스로 올해 1000만 이용자 달성”\n",
      "https://n.news.naver.com/mnews/article/comment/023/0003898297 \n",
      "https://n.news.naver.com/mnews/article/014/0005332827 정부, 스미싱 문자 사전 차단하는 '엑스레이' 서비스 시범 운영\n",
      "https://n.news.naver.com/mnews/article/comment/014/0005332827 \n",
      "https://n.news.naver.com/mnews/article/011/0004471387 SK텔레콤 AI 보이스피싱 탐지 기술, 기업은행·에이닷에 적용\n",
      "https://n.news.naver.com/mnews/article/comment/011/0004471387 \n",
      "https://n.news.naver.com/mnews/article/629/0000380048 카카오메이커스, 누적 거래액 1조원 돌파\n",
      "https://n.news.naver.com/mnews/article/comment/629/0000380048 \n",
      "https://n.news.naver.com/mnews/article/003/0013169545 갤S25, 카메라로 AI랑 대화한다…'실시간 비주얼 AI' 도입\n",
      "https://n.news.naver.com/mnews/article/comment/003/0013169545 \n",
      "https://n.news.naver.com/mnews/article/018/0005982179 신세계I&C, AI 무인매장 솔루션 출시…\"리테일테크 사업 확대\"\n",
      "https://n.news.naver.com/mnews/article/comment/018/0005982179 \n",
      "https://n.news.naver.com/mnews/article/011/0004471477 삼성 갤럭시, 이번엔 확 얇아진다…다음달 '슬림폰' 엣지 출격\n",
      "https://n.news.naver.com/mnews/article/comment/011/0004471477 \n",
      "https://n.news.naver.com/mnews/article/030/0003301404 [이슈플러스]삼성전자 1분기 메모리 실적 '선방'\n",
      "https://n.news.naver.com/mnews/article/comment/030/0003301404 \n",
      "https://n.news.naver.com/mnews/article/092/0002369838 소액주주 눈높이 맞춘다…한화에어로, 유증 3.6조→2.3조 축소\n",
      "https://n.news.naver.com/mnews/article/comment/092/0002369838 \n",
      "https://n.news.naver.com/mnews/article/421/0008180782 의협 \"작년 2월 전으로 돌아가야\"…정부·국회에 대화 요구(종합)\n",
      "https://n.news.naver.com/mnews/article/comment/421/0008180782 \n",
      "https://n.news.naver.com/mnews/article/092/0002369836 한화오션, 차세대 드릴십 인도…심해 시추 본격 진출\n",
      "https://n.news.naver.com/mnews/article/comment/092/0002369836 \n",
      "https://n.news.naver.com/mnews/article/018/0005982544 “보여주면 알아서 설명” 삼성, 갤럭시 S25에 ‘실시간 비주얼 AI’ 도입\n",
      "https://n.news.naver.com/mnews/article/comment/018/0005982544 \n",
      "https://n.news.naver.com/mnews/article/008/0005177554 \"5G 투자회수도 멀었는데\"…글로벌 통신업계 '6G' 회의론\n",
      "https://n.news.naver.com/mnews/article/comment/008/0005177554 \n",
      "https://n.news.naver.com/mnews/article/014/0005332970 삼성 1분기 실적 효자는 '갤S25'…2Q '슬림' 판매량 관건\n",
      "https://n.news.naver.com/mnews/article/comment/014/0005332970 \n",
      "https://n.news.naver.com/mnews/article/648/0000035139 영화 'HER' 속 사만사처럼…뤼튼의 '1인 1AI' 전략\n",
      "https://n.news.naver.com/mnews/article/comment/648/0000035139 \n",
      "https://n.news.naver.com/mnews/article/092/0002369831 [현장] \"AI, 이제 도구가 아닌 친구\"…뤼튼, '1인 1AI' 시대 연다\n",
      "https://n.news.naver.com/mnews/article/comment/092/0002369831 \n",
      "https://n.news.naver.com/mnews/article/029/0002946712 의협 “내년 정원 확정해달라…교육 불가능땐 모집인원 줄여야”\n",
      "https://n.news.naver.com/mnews/article/comment/029/0002946712 \n",
      "https://n.news.naver.com/mnews/article/018/0005982502 “자문인줄 알았는데” 리멤버, 전직 직원에 내부정보 요구 논란\n",
      "https://n.news.naver.com/mnews/article/comment/018/0005982502 \n",
      "https://n.news.naver.com/mnews/article/092/0002369827 리플 \"전 세계 금융 시장, 실물자산 토큰화 중심으로 근본 변화\"\n",
      "https://n.news.naver.com/mnews/article/comment/092/0002369827 \n",
      "https://n.news.naver.com/mnews/article/366/0001067652 당뇨·비만 치료제가 치매 위험 33~43% 낮춘다\n",
      "https://n.news.naver.com/mnews/article/comment/366/0001067652 \n",
      "https://n.news.naver.com/mnews/article/366/0001067651 과기정통부·KISA, 스팸문자 사전 차단 '엑스레이 서비스' 시범 도입\n",
      "https://n.news.naver.com/mnews/article/comment/366/0001067651 \n",
      "https://n.news.naver.com/mnews/article/421/0008180569 에이비엘바이오, '4조 기술이전' 후 첫 공식석상…로드맵 밝힌다\n",
      "https://n.news.naver.com/mnews/article/comment/421/0008180569 \n",
      "https://n.news.naver.com/mnews/article/023/0003898288 한국계 NASA 우주인 조니 김 태운 러 우주선, ISS로 발사\n",
      "https://n.news.naver.com/mnews/article/comment/023/0003898288 \n",
      "https://n.news.naver.com/mnews/article/030/0003301377 “韓 AI 선진국 위해 'AI기술'보다 데이터 확보가 필요”\n",
      "https://n.news.naver.com/mnews/article/comment/030/0003301377 \n",
      "https://n.news.naver.com/mnews/article/421/0008180565 \"의료계 제안 논의하자\"…의협, 정부·국회에 '대화의 장' 요구\n",
      "https://n.news.naver.com/mnews/article/comment/421/0008180565 \n",
      "https://n.news.naver.com/mnews/article/014/0005332936 질병청-녹십자 개발 '탄저백신' 품목허가 \"백신주권 확립\"\n",
      "https://n.news.naver.com/mnews/article/comment/014/0005332936 \n",
      "https://n.news.naver.com/mnews/article/081/0003531724 항암제 피하는 암세포 꼼수 발견…악성 폐암도 잡는다\n",
      "https://n.news.naver.com/mnews/article/comment/081/0003531724 \n",
      "https://n.news.naver.com/mnews/article/421/0008180537 뤼튼 \"무료전략으로 생활형 AI 시대 열 것…올해 천만 MAU 목표\"\n",
      "https://n.news.naver.com/mnews/article/comment/421/0008180537 \n",
      "https://n.news.naver.com/mnews/article/032/0003361993 첫 한국계 ‘NASA 우주비행사’ 조니 김, 마침내 지구 궤도로 떠났다\n",
      "https://n.news.naver.com/mnews/article/comment/032/0003361993 \n",
      "https://n.news.naver.com/mnews/article/015/0005116525 질병청, 세계 첫 단백질 재조합 탄저백신 '배리트락스' 상용화\n",
      "https://n.news.naver.com/mnews/article/comment/015/0005116525 \n",
      "https://n.news.naver.com/mnews/article/092/0002369818 트럼프 관세, 세계경제 큰 타격…美中 충돌로 더 증폭\n",
      "https://n.news.naver.com/mnews/article/comment/092/0002369818 \n",
      "https://n.news.naver.com/mnews/article/366/0001067643 [100세 과학] 노년 건강 유지엔 채식보다 육식\n",
      "https://n.news.naver.com/mnews/article/comment/366/0001067643 \n",
      "https://n.news.naver.com/mnews/article/018/0005982461 [사고]스테이블코인 vs CBDC…디지털금융 대세는 어디로?\n",
      "https://n.news.naver.com/mnews/article/comment/018/0005982461 \n",
      "https://n.news.naver.com/mnews/article/021/0002701758 폐암 면역치료 새 전략 찾았다…면역항암 막는 핵심인자 최초로 발견\n",
      "https://n.news.naver.com/mnews/article/comment/021/0002701758 \n",
      "https://n.news.naver.com/mnews/article/092/0002369817 \"갤럭시S26 울트라, 카메라 사양 등 전작과 큰 변화 없다\"\n",
      "https://n.news.naver.com/mnews/article/comment/092/0002369817 \n",
      "https://n.news.naver.com/mnews/article/092/0002369816 구영배 \"위시 살려야\" 주장에 피해자들 분통…\"차라리 처벌 받아라\"\n",
      "https://n.news.naver.com/mnews/article/comment/092/0002369816 \n",
      "https://n.news.naver.com/mnews/article/092/0002369815 관세 폭탄에 스마트폰 공장 美로 옮긴다?…\"가능성 희박\"\n",
      "https://n.news.naver.com/mnews/article/comment/092/0002369815 \n",
      "https://n.news.naver.com/mnews/article/015/0005116508 전국에 딱 500대만 풀린다…'한정판 갤럭시S25'의 정체\n",
      "https://n.news.naver.com/mnews/article/comment/015/0005116508 \n",
      "https://n.news.naver.com/mnews/article/030/0003301337 [6G 코리아] ④ 이통3사, AI-RAN 시장 개척 주도\n",
      "https://n.news.naver.com/mnews/article/comment/030/0003301337 \n",
      "https://n.news.naver.com/mnews/article/015/0005116502 한바이오 \"모유두세포로 탈모 정복하겠다\"\n",
      "https://n.news.naver.com/mnews/article/comment/015/0005116502 \n",
      "https://n.news.naver.com/mnews/article/293/0000065879 뤼튼, 감정 교류도 하는 'AI 비서' 낸다\n",
      "https://n.news.naver.com/mnews/article/comment/293/0000065879 \n",
      "https://n.news.naver.com/mnews/article/092/0002369813 온라인서 예금토큰 결제 지연…9일부터 순차적으로 진행\n",
      "https://n.news.naver.com/mnews/article/comment/092/0002369813 \n",
      "https://n.news.naver.com/mnews/article/030/0003301326 법인 가상자산 투자 허용, 금융 생태계 지각변동 예고...우덕수 블록데몬 아시아 대표 “기관 대상 상품 본격화”\n",
      "https://n.news.naver.com/mnews/article/comment/030/0003301326 \n"
     ]
    }
   ],
   "source": [
    "print_news(105)"
   ]
  },
  {
   "cell_type": "markdown",
   "id": "323196dc",
   "metadata": {},
   "source": [
    "### 2. Image 다운로드\n",
    "* referer 요청 헤더를 반드시 설정해야 한다."
   ]
  },
  {
   "cell_type": "code",
   "execution_count": null,
   "id": "c72d6cb1",
   "metadata": {},
   "outputs": [
    {
     "name": "stdout",
     "output_type": "stream",
     "text": [
      "200\n",
      "writing to 20220804112251_d97bd1e1b38f0cd022e4e3639d2926b3_IMAG01_1.jpg(299,319 bytes)\n",
      "200\n",
      "writing to 20220804112251_d97bd1e1b38f0cd022e4e3639d2926b3_IMAG01_2.jpg(163,333 bytes)\n",
      "200\n",
      "writing to 20220804112251_d97bd1e1b38f0cd022e4e3639d2926b3_IMAG01_3.jpg(182,530 bytes)\n"
     ]
    }
   ],
   "source": [
    "import requests\n",
    "import os\n",
    "\n",
    "req_header = {\n",
    "    'referer':''\n",
    "}\n",
    "\n",
    "img_urls = [\n",
    "    'https://image-comic.pstatic.net/webtoon/798173/5/20220804112251_d97bd1e1b38f0cd022e4e3639d2926b3_IMAG01_1.jpg',\n",
    "    'https://image-comic.pstatic.net/webtoon/798173/5/20220804112251_d97bd1e1b38f0cd022e4e3639d2926b3_IMAG01_2.jpg',\n",
    "    'https://image-comic.pstatic.net/webtoon/798173/5/20220804112251_d97bd1e1b38f0cd022e4e3639d2926b3_IMAG01_3.jpg'\n",
    "]\n",
    "\n",
    "for img_url in img_urls:\n",
    "    pass\n",
    "    # requests 의 get(url, headers) 함수 호출하기 \n",
    "        \n",
    "        # binary 응답 데이터 가져오기\n",
    "        \n",
    "        # url에서 파일명만 추출하기\n",
    "        \n",
    "        # binday data를 file에 write하기\n"
   ]
  },
  {
   "cell_type": "markdown",
   "id": "e8b00a04",
   "metadata": {},
   "source": [
    "* 현재 요청된 페이지의 image 모두 다운로드 해보기"
   ]
  },
  {
   "cell_type": "code",
   "execution_count": null,
   "id": "b30f7bf5",
   "metadata": {},
   "outputs": [],
   "source": []
  },
  {
   "cell_type": "markdown",
   "id": "2ac9f5f9",
   "metadata": {},
   "source": [
    "### 3. 파일 업로드 하기\n",
    "* http://httpbin.org/post 업로드 요청을 할 수 있는 url"
   ]
  },
  {
   "cell_type": "code",
   "execution_count": null,
   "id": "04da4790",
   "metadata": {},
   "outputs": [
    {
     "name": "stdout",
     "output_type": "stream",
     "text": [
      "200\n"
     ]
    }
   ],
   "source": [
    "import requests\n",
    "\n",
    "upload_files = {\n",
    "    \n",
    "}\n",
    "#print(upload_files)\n",
    "\n",
    "url = 'http://httpbin.org/post'\n",
    "# file 업로드 하려면 requests의 post 함수에 files 속성을 사용합니다.\n",
    "\n"
   ]
  },
  {
   "cell_type": "markdown",
   "id": "7ad65f12",
   "metadata": {},
   "source": [
    "### 4. 캡챠(이미지) API 호출하기\n",
    "* urllib 사용\n",
    "* 1. 캡차 키 발급 요청\n",
    "  2. 캡차 이미지 요청\n",
    "  3. 사용자 입력값 검증 요청"
   ]
  },
  {
   "cell_type": "code",
   "execution_count": 2,
   "id": "bc4ae360-e772-4873-8642-d3494edd34e1",
   "metadata": {},
   "outputs": [],
   "source": [
    "# 캡차 키 발급 요청\n"
   ]
  },
  {
   "cell_type": "code",
   "execution_count": 1,
   "id": "7b95b6a0-c218-4792-82a6-da4d80872071",
   "metadata": {},
   "outputs": [],
   "source": [
    "# 캡차 이미지 요청\n"
   ]
  },
  {
   "cell_type": "code",
   "execution_count": 3,
   "id": "a79076af-2cd0-4de2-8301-316b9130c55e",
   "metadata": {},
   "outputs": [],
   "source": [
    "#  사용자 입력값 검증 요청\n",
    "\n"
   ]
  },
  {
   "cell_type": "markdown",
   "id": "b7d984a6",
   "metadata": {},
   "source": [
    "* requests를 사용하는 코드로 변경하기\n",
    "* [requests docs](https://requests.readthedocs.io/en/latest/user/quickstart/)"
   ]
  },
  {
   "cell_type": "code",
   "execution_count": null,
   "id": "727b427b",
   "metadata": {
    "scrolled": true
   },
   "outputs": [
    {
     "name": "stdout",
     "output_type": "stream",
     "text": [
      "Error Code: 403\n"
     ]
    }
   ],
   "source": [
    "# 사용자 입력값 검증 요청\n",
    "\n"
   ]
  },
  {
   "cell_type": "markdown",
   "id": "d5e1179a",
   "metadata": {},
   "source": [
    "### 5. 블로그 검색하기"
   ]
  },
  {
   "cell_type": "code",
   "execution_count": null,
   "id": "877d0c7f",
   "metadata": {},
   "outputs": [],
   "source": [
    "import requests\n",
    "import pprint\n",
    "\n",
    "headers = {\n",
    "    'X-Naver-Client-Id': '',\n",
    "    'X-Naver-Client-Secret': '',\n",
    "}\n",
    "\n",
    "payload = {\n",
    "    'query': '파이썬',\n",
    "    'display': 100,\n",
    "    'sort': 'sim'\n",
    "}\n",
    "\n",
    "url = 'https://openapi.naver.com/v1/search/blog.json'\n",
    "\n",
    "\n",
    "# requests get(url, params, headers) 요청 \n",
    "\n",
    "# json() 함수로 응답 결과 가져오오기\n",
    "# 'title' , 'bloggername' , 'description' , 'bloggerlink' , 'link'\n",
    "\n",
    "# 'data/nhnblog.txt' 파일 생성하기\n"
   ]
  }
 ],
 "metadata": {
  "kernelspec": {
   "display_name": "base",
   "language": "python",
   "name": "python3"
  },
  "language_info": {
   "codemirror_mode": {
    "name": "ipython",
    "version": 3
   },
   "file_extension": ".py",
   "mimetype": "text/x-python",
   "name": "python",
   "nbconvert_exporter": "python",
   "pygments_lexer": "ipython3",
   "version": "3.12.7"
  }
 },
 "nbformat": 4,
 "nbformat_minor": 5
}

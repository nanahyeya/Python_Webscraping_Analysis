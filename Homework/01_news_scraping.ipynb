{
 "cells": [
  {
   "cell_type": "code",
   "execution_count": 3,
   "id": "c02a2674",
   "metadata": {},
   "outputs": [],
   "source": [
    "# reqeusts, bs4 import\n",
    "import requests\n",
    "import bs4\n",
    "# BeautifulSoup 클래스 import\n",
    "from bs4 import BeautifulSoup"
   ]
  },
  {
   "cell_type": "code",
   "execution_count": 6,
   "id": "a172cb9c",
   "metadata": {},
   "outputs": [],
   "source": [
    "# IT/과학 뉴스 \n",
    "section_dict = {\n",
    "    'climate': \"기후/환경\",\n",
    "    'society': \"사회\",\n",
    "    'economy': \"경제\",\n",
    "    'politics': \"정치\",\n",
    "    'world': \"국제\",\n",
    "    'culture': \"문화\",\n",
    "    'life': \"생활\",\n",
    "    'tech': \"IT/과학\"\n",
    "}\n",
    "\n",
    "def print_news_daum(sid):  # print_new_daum(climate)\n",
    "    \n",
    "    section = section_dict[sid]\n",
    "    # req_param = {\"sid\": sid}\n",
    "    # url = \"https://news.naver.com/section/{sid}\".format(**req_param)\n",
    "    url = f\"https://news.daum.net/{sid}\"\n",
    "    print(f'=====> {url} {section} 뉴스 <=====')\n",
    "\n",
    "    # 요청 헤더 설정 : 브라우저 정보 (기계가 아니라 사람처럼 보이게 하려고 설정하는 것)\n",
    "    req_header = {\n",
    "        \"user-agent\": \"Mozilla/5.0 (Windows NT 10.0; Win64; x64) AppleWebKit/537.36 (KHTML, like Gecko) Chrome/135.0.0.0 Safari/537.36\"\n",
    "    }\n",
    "\n",
    "    # requests 의 get() 함수 호출하기\n",
    "    res = requests.get(url, headers=req_header)\n",
    "    res.encoding = 'utf-8'\n",
    "    print(res)\n",
    "    print(type(res))\n",
    "    print(res.status_code, res.ok)\n",
    "    \n",
    "\n",
    "    # 응답(response)이 OK 이면\n",
    "    if res.ok:\n",
    "        # 응답 (response)에서 text 추출 - source 보기\n",
    "        html = res.text\n",
    "        # BeautifulSoup 객체 생성 -\n",
    "        soup = BeautifulSoup(html, \"html.parser\")\n",
    "        # CSS 선택자\n",
    "        print(len(soup.select(\"ul.list_newsheadline2 li\")))\n",
    "        li_tag_list = soup.select(\"ul.list_newsheadline2 li\")\n",
    "        print(type(li_tag_list))  # ResultSet\n",
    "        \n",
    "        for li_tag in li_tag_list:\n",
    "            \n",
    "            a_tag = li_tag.find('a')\n",
    "            link = a_tag[\"href\"]\n",
    "            \n",
    "            strong_tag = li_tag.select_one(\"a[href*='v.daum.net'] div.cont_thumb strong.tit_txt\")\n",
    "            title = strong_tag.text\n",
    "            \n",
    "            print(link)\n",
    "            print(title)\n",
    "\n",
    "\n",
    "        # <a> 태그 리스트 순회하기\n",
    "    else:\n",
    "        # 응답(response)이 Error 이면 status code 출력\n",
    "        print(f\"ERROR CODE = {res.status_code}\")\n"
   ]
  },
  {
   "cell_type": "code",
   "execution_count": 7,
   "id": "85e1a6da",
   "metadata": {},
   "outputs": [
    {
     "name": "stdout",
     "output_type": "stream",
     "text": [
      "=====> https://news.daum.net/climate 기후/환경 뉴스 <=====\n",
      "<Response [200]>\n",
      "<class 'requests.models.Response'>\n",
      "200 True\n",
      "9\n",
      "<class 'bs4.element.ResultSet'>\n",
      "https://v.daum.net/v/20250408193850514\n",
      "전기요금 더 깎아달라는 교육감들…“기후 대응 역행” 비판도\n",
      "https://v.daum.net/v/20250408170301976\n",
      "가습기살균제 피해자와 유족, 가해부처 환경부 규탄 성명 발표\n",
      "https://v.daum.net/v/20250408170002845\n",
      "민주당 을지로위원회 중재로 ‘일회용컵 보증금제’ 철회 피해업체 구제\n",
      "https://v.daum.net/v/20250408165802774\n",
      "산불 복구 현장 가보니…인위적으로 베어내 굽이굽이 ‘민둥산’\n",
      "https://v.daum.net/v/20250408143901395\n",
      "\"30년만에 갑자기?\" 창원시 뜬금없는 소각장 공동입찰 논란\n",
      "https://v.daum.net/v/20250408124406370\n",
      "[기후는 말한다] 유엔 “코로나19 당시 북한 영유아 사망률 악화”\n",
      "https://v.daum.net/v/20250408121002752\n",
      "유럽도 ‘가장 뜨거운’ 3월…북극 해빙면적 4개월째 ‘역대 최저’\n",
      "https://v.daum.net/v/20250408120401610\n",
      "전 세계 재생에너지 비중 32%, 우린 고작 10% [지금은 기후위기]\n",
      "https://v.daum.net/v/20250408111801392\n",
      "맨발과 흙이 만나니…아킬레스건염도 훨훨\n"
     ]
    }
   ],
   "source": [
    "print_news_daum(\"climate\")"
   ]
  }
 ],
 "metadata": {
  "kernelspec": {
   "display_name": "base",
   "language": "python",
   "name": "python3"
  },
  "language_info": {
   "codemirror_mode": {
    "name": "ipython",
    "version": 3
   },
   "file_extension": ".py",
   "mimetype": "text/x-python",
   "name": "python",
   "nbconvert_exporter": "python",
   "pygments_lexer": "ipython3",
   "version": "3.12.7"
  }
 },
 "nbformat": 4,
 "nbformat_minor": 5
}
